{
 "cells": [
  {
   "cell_type": "code",
   "execution_count": 67,
   "id": "f39598a8",
   "metadata": {},
   "outputs": [],
   "source": [
    "import pymongo\n",
    "import pandas as pd\n",
    "from pprint import pprint\n",
    "import json"
   ]
  },
  {
   "cell_type": "code",
   "execution_count": 56,
   "id": "73ed84cc",
   "metadata": {},
   "outputs": [],
   "source": [
    "conn = 'mongodb://localhost:27017'\n",
    "client = pymongo.MongoClient(conn)\n",
    "\n",
    "db = client.happinessDB"
   ]
  },
  {
   "cell_type": "code",
   "execution_count": 62,
   "id": "4b627a6f",
   "metadata": {},
   "outputs": [
    {
     "data": {
      "text/plain": [
       "<pymongo.results.InsertOneResult at 0x7fa903298d40>"
      ]
     },
     "execution_count": 62,
     "metadata": {},
     "output_type": "execute_result"
    }
   ],
   "source": [
    "state_happiness = db.state_happiness\n",
    "state_happiness.insert_one(state_dict)"
   ]
  },
  {
   "cell_type": "code",
   "execution_count": 72,
   "id": "4bd52e69",
   "metadata": {},
   "outputs": [],
   "source": [
    "educ = 'data/happiness.csv'\n",
    "\n",
    "educ_dict = pd.read_csv(educ)\n",
    "d = educ_dict.set_index(['State'])\n",
    "state_dict = {}\n",
    "for index in d.index:\n",
    "    state_dict.update({index: d.loc[index,:].to_dict('list')})\n",
    "with open(\"static/data/state_data.json\", \"w\") as outfile:\n",
    "    json.dump(state_dict, outfile)"
   ]
  },
  {
   "cell_type": "code",
   "execution_count": null,
   "id": "729e79b6",
   "metadata": {},
   "outputs": [],
   "source": []
  }
 ],
 "metadata": {
  "kernelspec": {
   "display_name": "Python 3 (ipykernel)",
   "language": "python",
   "name": "python3"
  },
  "language_info": {
   "codemirror_mode": {
    "name": "ipython",
    "version": 3
   },
   "file_extension": ".py",
   "mimetype": "text/x-python",
   "name": "python",
   "nbconvert_exporter": "python",
   "pygments_lexer": "ipython3",
   "version": "3.9.7"
  }
 },
 "nbformat": 4,
 "nbformat_minor": 5
}
